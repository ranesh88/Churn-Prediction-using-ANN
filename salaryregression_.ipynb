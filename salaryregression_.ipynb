{
  "nbformat": 4,
  "nbformat_minor": 0,
  "metadata": {
    "colab": {
      "private_outputs": true,
      "provenance": [],
      "toc_visible": true,
      "authorship_tag": "ABX9TyMity2/ALGsSnDVAQxn3clR",
      "include_colab_link": true
    },
    "kernelspec": {
      "name": "python3",
      "display_name": "Python 3"
    },
    "language_info": {
      "name": "python"
    }
  },
  "cells": [
    {
      "cell_type": "markdown",
      "metadata": {
        "id": "view-in-github",
        "colab_type": "text"
      },
      "source": [
        "<a href=\"https://colab.research.google.com/github/ranesh88/Churn-Prediction-using-ANN/blob/main/salaryregression_.ipynb\" target=\"_parent\"><img src=\"https://colab.research.google.com/assets/colab-badge.svg\" alt=\"Open In Colab\"/></a>"
      ]
    },
    {
      "cell_type": "code",
      "execution_count": null,
      "metadata": {
        "id": "YnnwunqdNOTr"
      },
      "outputs": [],
      "source": [
        "import pandas as pd\n",
        "from sklearn.model_selection import train_test_split\n",
        "from sklearn.preprocessing import StandardScaler, LabelEncoder, OneHotEncoder\n",
        "import pickle"
      ]
    },
    {
      "cell_type": "code",
      "source": [
        "data=pd.read_csv('/content/Churn_Modelling.csv')\n",
        "data.head()"
      ],
      "metadata": {
        "id": "3B4TWIckNS-1"
      },
      "execution_count": null,
      "outputs": []
    },
    {
      "cell_type": "code",
      "source": [
        "# Preprocess the data\n",
        "data = data.drop(['RowNumber', 'CustomerId', 'Surname'], axis=1)"
      ],
      "metadata": {
        "id": "1StDCPpWSeIe"
      },
      "execution_count": null,
      "outputs": []
    },
    {
      "cell_type": "code",
      "source": [
        "# Encode categorical variables\n",
        "label_encoder_gender = LabelEncoder()\n",
        "data['Gender'] = label_encoder_gender.fit_transform(data['Gender'])"
      ],
      "metadata": {
        "id": "eEu3BSOKSfRI"
      },
      "execution_count": null,
      "outputs": []
    },
    {
      "cell_type": "code",
      "source": [
        "data"
      ],
      "metadata": {
        "id": "aU147yGxSfTm"
      },
      "execution_count": null,
      "outputs": []
    },
    {
      "cell_type": "code",
      "source": [
        "# One-hot encode 'Geography'\n",
        "onehot_encoder_geo = OneHotEncoder(handle_unknown='ignore')\n",
        "geo_encoded = onehot_encoder_geo.fit_transform(data[['Geography']]).toarray()\n",
        "geo_encoded_df = pd.DataFrame(geo_encoded, columns=onehot_encoder_geo.get_feature_names_out(['Geography']))\n",
        "geo_encoded_df"
      ],
      "metadata": {
        "id": "MSj36j_hSfWv"
      },
      "execution_count": null,
      "outputs": []
    },
    {
      "cell_type": "code",
      "source": [
        "# One-hot encode 'Geography'\n",
        "onehot_encoder_geo = OneHotEncoder(handle_unknown='ignore')\n",
        "geo_encoded = onehot_encoder_geo.fit_transform(data[['Geography']]).toarray()\n",
        "geo_encoded_df = pd.DataFrame(geo_encoded, columns=onehot_encoder_geo.get_feature_names_out(['Geography']))\n",
        "geo_encoded_df\n",
        "\n",
        "# Combine one-hot encoded columns with original data\n",
        "data = pd.concat([data.drop('Geography', axis=1), geo_encoded_df], axis=1)\n",
        "data.head()"
      ],
      "metadata": {
        "id": "XGewW0D2SfZW"
      },
      "execution_count": null,
      "outputs": []
    },
    {
      "cell_type": "code",
      "source": [
        "# Split the data into features and target\n",
        "X = data.drop('EstimatedSalary', axis=1)\n",
        "y = data['EstimatedSalary']"
      ],
      "metadata": {
        "id": "0tTY9cwPSfb4"
      },
      "execution_count": null,
      "outputs": []
    },
    {
      "cell_type": "code",
      "source": [
        "## Split the data in training and tetsing sets\n",
        "X_train,X_test,y_train,y_test=train_test_split(X,y,test_size=0.2,random_state=42)"
      ],
      "metadata": {
        "id": "7PPOjo-8SxIY"
      },
      "execution_count": null,
      "outputs": []
    },
    {
      "cell_type": "code",
      "source": [
        "## Scale these features\n",
        "scaler=StandardScaler()\n",
        "X_train=scaler.fit_transform(X_train)\n",
        "X_test=scaler.transform(X_test)"
      ],
      "metadata": {
        "id": "wdX8SROoSxLh"
      },
      "execution_count": null,
      "outputs": []
    },
    {
      "cell_type": "code",
      "source": [
        "# Save the encoders and scaler for later use\n",
        "with open('label_encoder_gender.pkl', 'wb') as file:\n",
        "    pickle.dump(label_encoder_gender, file)\n",
        "\n",
        "with open('onehot_encoder_geo.pkl', 'wb') as file:\n",
        "    pickle.dump(onehot_encoder_geo, file)\n",
        "\n",
        "with open('scaler.pkl', 'wb') as file:\n",
        "    pickle.dump(scaler, file)"
      ],
      "metadata": {
        "id": "FpItXvFrSxOX"
      },
      "execution_count": null,
      "outputs": []
    },
    {
      "cell_type": "code",
      "source": [],
      "metadata": {
        "id": "oOyaQrm0SffA"
      },
      "execution_count": null,
      "outputs": []
    },
    {
      "cell_type": "markdown",
      "source": [
        "**ANN Implementation**"
      ],
      "metadata": {
        "id": "qA-7o22VTAS_"
      }
    },
    {
      "cell_type": "code",
      "source": [
        "import tensorflow as tf\n",
        "from tensorflow.keras.models import Sequential\n",
        "from tensorflow.keras.layers import Dense"
      ],
      "metadata": {
        "id": "2BmLpr9QTFgT"
      },
      "execution_count": null,
      "outputs": []
    },
    {
      "cell_type": "code",
      "source": [
        "# Build the model\n",
        "model = Sequential([\n",
        "    Dense(64, activation='relu', input_shape=(X_train.shape[1],)),\n",
        "    Dense(32, activation='relu'),\n",
        "    Dense(1)  # Output layer for regression\n",
        "])\n",
        "\n",
        "## compile the model\n",
        "model.compile(optimizer='adam',loss='mean_absolute_error',metrics=['mae'])\n",
        "\n",
        "model.summary()"
      ],
      "metadata": {
        "id": "2SjosQDeTI-a"
      },
      "execution_count": null,
      "outputs": []
    },
    {
      "cell_type": "code",
      "source": [
        "from tensorflow.keras.callbacks import EarlyStopping, TensorBoard\n",
        "import datetime\n",
        "\n",
        "# Set up TensorBoard\n",
        "log_dir = \"regressionlogs/fit/\" + datetime.datetime.now().strftime(\"%Y%m%d-%H%M%S\")\n",
        "tensorboard_callback = TensorBoard(log_dir=log_dir, histogram_freq=1)"
      ],
      "metadata": {
        "id": "gNooITVFTNsh"
      },
      "execution_count": null,
      "outputs": []
    },
    {
      "cell_type": "code",
      "source": [
        "# Set up Early Stopping\n",
        "early_stopping_callback = EarlyStopping(monitor='val_loss', patience=10, restore_best_weights=True)"
      ],
      "metadata": {
        "id": "9sdxZhipTROD"
      },
      "execution_count": null,
      "outputs": []
    },
    {
      "cell_type": "code",
      "source": [
        "# Train the model\n",
        "history = model.fit(\n",
        "    X_train, y_train,\n",
        "    validation_data=(X_test, y_test),\n",
        "    epochs=100,\n",
        "    callbacks=[early_stopping_callback, tensorboard_callback]\n",
        ")"
      ],
      "metadata": {
        "id": "fpV9GZZhTUQR"
      },
      "execution_count": null,
      "outputs": []
    },
    {
      "cell_type": "code",
      "source": [
        "%load_ext tensorboard"
      ],
      "metadata": {
        "id": "pillG-sYTXRU"
      },
      "execution_count": null,
      "outputs": []
    },
    {
      "cell_type": "code",
      "source": [
        "%tensorboard --logdir regressionlogs/fit"
      ],
      "metadata": {
        "id": "Xl7W7Ny0Tsil"
      },
      "execution_count": null,
      "outputs": []
    },
    {
      "cell_type": "code",
      "source": [
        "## Evaluate model on the test data\n",
        "test_loss,test_mae=model.evaluate(X_test,y_test)\n",
        "print(f'Test MAE : {test_mae}')"
      ],
      "metadata": {
        "id": "JkkW1cwJTu57"
      },
      "execution_count": null,
      "outputs": []
    },
    {
      "cell_type": "code",
      "source": [
        "model.save('regression_model.h5')"
      ],
      "metadata": {
        "id": "yZ3s8g0WT_1X"
      },
      "execution_count": null,
      "outputs": []
    },
    {
      "cell_type": "code",
      "source": [],
      "metadata": {
        "id": "KdCqOtuVUD0l"
      },
      "execution_count": null,
      "outputs": []
    }
  ]
}