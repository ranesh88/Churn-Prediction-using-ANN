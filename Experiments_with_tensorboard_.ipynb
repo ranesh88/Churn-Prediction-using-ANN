{
  "nbformat": 4,
  "nbformat_minor": 0,
  "metadata": {
    "colab": {
      "private_outputs": true,
      "provenance": [],
      "gpuType": "V28",
      "authorship_tag": "ABX9TyP38b86r05PVUZdRSHSDvIv",
      "include_colab_link": true
    },
    "kernelspec": {
      "name": "python3",
      "display_name": "Python 3"
    },
    "language_info": {
      "name": "python"
    },
    "accelerator": "TPU"
  },
  "cells": [
    {
      "cell_type": "markdown",
      "metadata": {
        "id": "view-in-github",
        "colab_type": "text"
      },
      "source": [
        "<a href=\"https://colab.research.google.com/github/ranesh88/Churn-Prediction-using-ANN/blob/main/Experiments_with_tensorboard_.ipynb\" target=\"_parent\"><img src=\"https://colab.research.google.com/assets/colab-badge.svg\" alt=\"Open In Colab\"/></a>"
      ]
    },
    {
      "cell_type": "code",
      "execution_count": null,
      "metadata": {
        "id": "kX0yyfeZMkcW"
      },
      "outputs": [],
      "source": [
        "import pandas as pd\n",
        "from sklearn.model_selection import train_test_split\n",
        "from sklearn.preprocessing import StandardScaler,LabelEncoder\n",
        "import pickle"
      ]
    },
    {
      "cell_type": "code",
      "source": [
        "## Load the dataset\n",
        "data=pd.read_csv(\"/content/Churn_Modelling.csv\")\n",
        "data.head()"
      ],
      "metadata": {
        "id": "bIGWiVgfMla_"
      },
      "execution_count": null,
      "outputs": []
    },
    {
      "cell_type": "code",
      "source": [
        "## Preprocess the data\n",
        "### Drop irrelevant columns\n",
        "data=data.drop(['RowNumber','CustomerId','Surname'],axis=1)\n",
        "data"
      ],
      "metadata": {
        "id": "D6_4GUIyMlgc"
      },
      "execution_count": null,
      "outputs": []
    },
    {
      "cell_type": "code",
      "source": [
        "## Encode categorical variables\n",
        "label_encoder_gender=LabelEncoder()\n",
        "data['Gender']=label_encoder_gender.fit_transform(data['Gender'])\n",
        "data"
      ],
      "metadata": {
        "id": "fnYdBadrMllU"
      },
      "execution_count": null,
      "outputs": []
    },
    {
      "cell_type": "code",
      "source": [
        "## Onehot encode 'Geography\n",
        "from sklearn.preprocessing import OneHotEncoder\n",
        "onehot_encoder_geo=OneHotEncoder()\n",
        "geo_encoder=onehot_encoder_geo.fit_transform(data[['Geography']]).toarray()\n",
        "geo_encoder"
      ],
      "metadata": {
        "id": "I8sVA4VUMlpM"
      },
      "execution_count": null,
      "outputs": []
    },
    {
      "cell_type": "code",
      "source": [
        "onehot_encoder_geo.get_feature_names_out(['Geography'])"
      ],
      "metadata": {
        "id": "RlvFxsJkMls1"
      },
      "execution_count": null,
      "outputs": []
    },
    {
      "cell_type": "code",
      "source": [
        "geo_encoded_df=pd.DataFrame(geo_encoder,columns=onehot_encoder_geo.get_feature_names_out(['Geography']))\n",
        "geo_encoded_df"
      ],
      "metadata": {
        "id": "O36TDdgTMlwk"
      },
      "execution_count": null,
      "outputs": []
    },
    {
      "cell_type": "code",
      "source": [
        "## Combine one hot encoder columns with the original data\n",
        "data=pd.concat([data.drop('Geography',axis=1),geo_encoded_df],axis=1)\n",
        "data.head()"
      ],
      "metadata": {
        "id": "sSsWOKQMMl0L"
      },
      "execution_count": null,
      "outputs": []
    },
    {
      "cell_type": "code",
      "source": [
        "## Save the encoders and sscaler\n",
        "with open('label_encoder_gender.pkl','wb') as file:\n",
        "    pickle.dump(label_encoder_gender,file)\n",
        "\n",
        "with open('onehot_encoder_geo.pkl','wb') as file:\n",
        "    pickle.dump(onehot_encoder_geo,file)\n"
      ],
      "metadata": {
        "id": "psthbgi8Ml30"
      },
      "execution_count": null,
      "outputs": []
    },
    {
      "cell_type": "code",
      "source": [
        "data.head()"
      ],
      "metadata": {
        "id": "flcAXtXIMl8D"
      },
      "execution_count": null,
      "outputs": []
    },
    {
      "cell_type": "code",
      "source": [
        "## DiVide the dataset into indepent and dependent features\n",
        "X=data.drop('Exited',axis=1)\n",
        "y=data['Exited']\n",
        "\n",
        "## Split the data in training and tetsing sets\n",
        "X_train,X_test,y_train,y_test=train_test_split(X,y,test_size=0.2,random_state=42)\n",
        "\n",
        "## Scale these features\n",
        "scaler=StandardScaler()\n",
        "X_train=scaler.fit_transform(X_train)\n",
        "X_test=scaler.transform(X_test)"
      ],
      "metadata": {
        "id": "xsg7YFs6MmB2"
      },
      "execution_count": null,
      "outputs": []
    },
    {
      "cell_type": "code",
      "source": [
        "X_train"
      ],
      "metadata": {
        "id": "9IlaVx9_MmI8"
      },
      "execution_count": null,
      "outputs": []
    },
    {
      "cell_type": "code",
      "source": [
        "with open('scaler.pkl','wb') as file:\n",
        "    pickle.dump(scaler,file)"
      ],
      "metadata": {
        "id": "DhTPd4DcMmjz"
      },
      "execution_count": null,
      "outputs": []
    },
    {
      "cell_type": "code",
      "source": [
        "data"
      ],
      "metadata": {
        "id": "jCVQKml3-PLi"
      },
      "execution_count": null,
      "outputs": []
    },
    {
      "cell_type": "code",
      "source": [
        "### ANN Implementation"
      ],
      "metadata": {
        "id": "gEUtJk6_-PRr"
      },
      "execution_count": null,
      "outputs": []
    },
    {
      "cell_type": "code",
      "source": [
        "import tensorflow as tf\n",
        "from tensorflow.keras.models import Sequential\n",
        "from tensorflow.keras.layers import Dense\n",
        "from tensorflow.keras.callbacks import EarlyStopping,TensorBoard\n",
        "import datetime"
      ],
      "metadata": {
        "id": "r0gkURx5-PVp"
      },
      "execution_count": null,
      "outputs": []
    },
    {
      "cell_type": "code",
      "source": [
        "(X_train.shape[1],)"
      ],
      "metadata": {
        "id": "LaiUuvfb-PYZ"
      },
      "execution_count": null,
      "outputs": []
    },
    {
      "cell_type": "code",
      "source": [
        "## Build Our ANN Model\n",
        "model=Sequential([\n",
        "    Dense(64,activation='relu',input_shape=(X_train.shape[1],)), ## HL1 Connected wwith input layer\n",
        "    Dense(32,activation='relu'), ## HL2\n",
        "    Dense(1,activation='sigmoid')  ## output layer\n",
        "]\n",
        "\n",
        ")"
      ],
      "metadata": {
        "id": "J6Uz4IEb-h3w"
      },
      "execution_count": null,
      "outputs": []
    },
    {
      "cell_type": "code",
      "source": [
        "model.summary()"
      ],
      "metadata": {
        "id": "MajSt9iB-h7I"
      },
      "execution_count": null,
      "outputs": []
    },
    {
      "cell_type": "code",
      "source": [
        "import tensorflow\n",
        "opt=tensorflow.keras.optimizers.Adam(learning_rate=0.01)\n",
        "loss=tensorflow.keras.losses.BinaryCrossentropy()\n",
        "loss"
      ],
      "metadata": {
        "id": "j-5ftnto-h-S"
      },
      "execution_count": null,
      "outputs": []
    },
    {
      "cell_type": "code",
      "source": [
        "## compile the model\n",
        "model.compile(optimizer=opt,loss=\"binary_crossentropy\",metrics=['accuracy'])"
      ],
      "metadata": {
        "id": "O2MbKRsOMmmj"
      },
      "execution_count": null,
      "outputs": []
    },
    {
      "cell_type": "code",
      "source": [
        "## Set up the Tensorboard\n",
        "from tensorflow.keras.callbacks import EarlyStopping,TensorBoard\n",
        "\n",
        "log_dir=\"logs/fit/\" + datetime.datetime.now().strftime(\"%Y%m%d-%H%M%S\")\n",
        "tensorflow_callback=TensorBoard(log_dir=log_dir,histogram_freq=1)"
      ],
      "metadata": {
        "id": "rV96bOivMmpU"
      },
      "execution_count": null,
      "outputs": []
    },
    {
      "cell_type": "code",
      "source": [
        "## Set up Early Stopping\n",
        "early_stopping_callback=EarlyStopping(monitor='val_loss',patience=10,restore_best_weights=True)"
      ],
      "metadata": {
        "id": "VkyKOOLF-z5o"
      },
      "execution_count": null,
      "outputs": []
    },
    {
      "cell_type": "code",
      "source": [
        "### Train the model\n",
        "history=model.fit(\n",
        "    X_train,y_train,validation_data=(X_test,y_test),epochs=100,\n",
        "    callbacks=[tensorflow_callback,early_stopping_callback]\n",
        ")"
      ],
      "metadata": {
        "id": "xHfyCixW-z8q"
      },
      "execution_count": null,
      "outputs": []
    },
    {
      "cell_type": "code",
      "source": [
        "model.save('model.h5')"
      ],
      "metadata": {
        "id": "wUTKfcuT-9qJ"
      },
      "execution_count": null,
      "outputs": []
    },
    {
      "cell_type": "code",
      "source": [
        "## Load Tensorboard Extension\n",
        "%load_ext tensorboard"
      ],
      "metadata": {
        "id": "3LrkX4m4-9tg"
      },
      "execution_count": null,
      "outputs": []
    },
    {
      "cell_type": "code",
      "source": [
        "%tensorboard --logdir logs/fit"
      ],
      "metadata": {
        "id": "zy5Lx0cc-9wZ"
      },
      "execution_count": null,
      "outputs": []
    },
    {
      "cell_type": "code",
      "source": [],
      "metadata": {
        "id": "aSX_k5MN-0BI"
      },
      "execution_count": null,
      "outputs": []
    },
    {
      "cell_type": "code",
      "source": [],
      "metadata": {
        "id": "Nom6Ur08-0HY"
      },
      "execution_count": null,
      "outputs": []
    }
  ]
}